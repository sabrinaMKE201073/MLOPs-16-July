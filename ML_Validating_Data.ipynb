{
  "nbformat": 4,
  "nbformat_minor": 0,
  "metadata": {
    "colab": {
      "provenance": [],
      "authorship_tag": "ABX9TyM8ekXzDmimeKmm2g5iwVdL",
      "include_colab_link": true
    },
    "kernelspec": {
      "name": "python3",
      "display_name": "Python 3"
    },
    "language_info": {
      "name": "python"
    }
  },
  "cells": [
    {
      "cell_type": "markdown",
      "metadata": {
        "id": "view-in-github",
        "colab_type": "text"
      },
      "source": [
        "<a href=\"https://colab.research.google.com/github/sabrinaMKE201073/MLOPs-16-July/blob/main/ML_Validating_Data.ipynb\" target=\"_parent\"><img src=\"https://colab.research.google.com/assets/colab-badge.svg\" alt=\"Open In Colab\"/></a>"
      ]
    },
    {
      "cell_type": "markdown",
      "source": [
        "<h1> <b>\n",
        "W1 - Validating Data\n",
        "</b>\n",
        "\n",
        "<h3> 1) Detecting Data Issues </h3>\n",
        "\n",
        "<p align=\"center\">\n",
        "  <img src=\"https://github.com/sabrinaMKE201073/test-html-coding/assets/95947484/319360d5-0ba4-409d-960f-77d6e2f467fa\">\n",
        "</p>\n",
        "\n",
        "<p align=\"center\">\n",
        "  <img src=\"https://github.com/sabrinaMKE201073/test-html-coding/assets/95947484/b8cae07d-ace1-4c13-bd5b-85487eaab467\">\n",
        "</p>\n",
        "\n",
        "---\n",
        "\n",
        "THis is an example of training over time for spammer and non spammer in the email application:\n",
        "- we classified people who send 20 or more messages/minute as spammer\n",
        "- but after update, we notice both spammer & non-spammer started to send more messages as the world changes, this cause unwanted misclassification\n",
        "\n",
        "\n",
        "\n",
        "<p align=\"center\">\n",
        "  <img src=\"https://github.com/sabrinaMKE201073/test-html-coding/assets/95947484/0ee7a754-119e-4341-be23-dd47c03918f2\">\n",
        "</p>\n",
        "\n",
        "Concept Drift : change in statistical properties of label over time\n",
        "- In AI training, the ML model learn a mapping between features and labels.\n",
        "- In static world (researcher world), it won't change\n",
        "<b>\n",
        "- but, in real world, the distribution and labels meaning will change, hence the model need to change as well as the mapping found during training will no longer be valid. (As Data Changes Over Time)\n",
        "</b>\n",
        "\n",
        "\n",
        "<p align=\"center\">\n",
        "  <img src=\"https://github.com/sabrinaMKE201073/test-html-coding/assets/95947484/83b7a1ea-903e-40fa-ae53-d32a356f2469\">\n",
        "</p>\n"
      ],
      "metadata": {
        "id": "7huR7RKdIZRW"
      }
    },
    {
      "cell_type": "markdown",
      "source": [
        "<h4><b> 2) Detecting Data Issues </h4></b>\n",
        "\n",
        "<p align=\"center\">\n",
        "  <img src=\"https://github.com/sabrinaMKE201073/test-html-coding/assets/95947484/78871b70-08e1-47fd-9d4e-a9f6336c4714\">\n",
        "</p>"
      ],
      "metadata": {
        "id": "uccKwCL5Qccr"
      }
    },
    {
      "cell_type": "markdown",
      "source": [
        "- 1) Dataset shift occurs when joint probability of x are feature and y are labels is not the same during training and serving.\n",
        "    - means data has shifter over time\n",
        "\n",
        "\n",
        "- 2) Covariate shift - refers to the marginal distribution of x (feature) is not the same during training and serving but the conditional distribution remains unchanged.\n",
        "\n",
        "- 3) Concept shift - refers to a change in relationship between input and output variable as opposed to the differences in the Data Distribution or input itself\n",
        "  - when the conditional distribution of y(label) and x(feature) is not the same during training and serving, but the marginal distribution of x (feature) remains unchanged\n",
        "\n",
        "<p align=\"center\">\n",
        "  <img src=\"https://github.com/sabrinaMKE201073/test-html-coding/assets/95947484/9365b94d-0ceb-48c8-bcbf-8857d9ef68a2\">\n",
        "</p>\n",
        "\n",
        "<p align=\"center\">\n",
        "  <img src=\"https://github.com/sabrinaMKE201073/test-html-coding/assets/95947484/e76f6495-97e0-41d3-8597-56df5fea12b0\">\n",
        "</p>\n",
        "\n"
      ],
      "metadata": {
        "id": "4uA1otgzRKEm"
      }
    },
    {
      "cell_type": "markdown",
      "source": [
        "<h4><b> 3) TFDV (Tensorflow Data Validation) </h4></b>\n",
        "\n",
        "<p align=\"center\">\n",
        "  <img src=\"https://github.com/sabrinaMKE201073/test-html-coding/assets/95947484/2d8b1c70-7eef-49fe-840b-9df70fd0a909\">\n",
        "</p>\n",
        "\n",
        "<p align=\"center\">\n",
        "  <img src=\"https://github.com/sabrinaMKE201073/test-html-coding/assets/95947484/dc31dd61-1653-4807-944b-c54d9c2309e4\">\n",
        "</p>\n",
        "\n",
        "<p align=\"center\">\n",
        "  <img src=\"https://github.com/sabrinaMKE201073/test-html-coding/assets/95947484/617197a6-d87a-4c41-8b5d-66ba67a1c811\">\n",
        "</p>\n",
        "\n",
        "\n",
        "\n",
        "\n",
        "\n",
        "---\n",
        "\n",
        "\n",
        "<p align=\"center\">\n",
        "  <img src=\"https://github.com/sabrinaMKE201073/test-html-coding/assets/95947484/3a5e1cdf-bb55-48a5-96bb-7e0f6a0696ea\">\n",
        "</p>\n",
        "\n",
        "<p align=\"center\">\n",
        "  <img src=\"https://github.com/sabrinaMKE201073/test-html-coding/assets/95947484/31725d46-c557-4464-8a71-b052f98c454d\">\n",
        "</p>\n",
        "\n",
        "<p align=\"center\">\n",
        "  <img src=\"https://github.com/sabrinaMKE201073/test-html-coding/assets/95947484/cc2b21c2-582a-42bb-bebe-964caae62234\">\n",
        "</p>\n",
        "\n",
        "<p align=\"center\">\n",
        "  <img src=\"https://github.com/sabrinaMKE201073/test-html-coding/assets/95947484/752d6854-80b8-440e-9554-8ec6489d53cc\">\n",
        "</p>\n",
        "\n",
        "---\n",
        "\n",
        "<p align=\"center\">\n",
        "  <img src=\"https://github.com/sabrinaMKE201073/test-html-coding/assets/95947484/46ed9fbb-d300-4325-92ce-bb73dcafdfb7\">\n",
        "</p>\n"
      ],
      "metadata": {
        "id": "Cp18-ioSUGi-"
      }
    },
    {
      "cell_type": "markdown",
      "source": [
        "Q & A\n",
        "\n",
        "1) & 2)\n",
        "<p align=\"center\">\n",
        "  <img src=\"https://github.com/sabrinaMKE201073/test-html-coding/assets/95947484/b2eec3ac-fba8-44dc-bc90-f407ae562d9b\">\n",
        "</p>\n",
        "\n",
        "3)\n",
        "<p align=\"center\">\n",
        "  <img src=\"https://github.com/sabrinaMKE201073/test-html-coding/assets/95947484/0488a3b0-084f-402d-8260-3ec01ac12efb\">\n",
        "</p>\n",
        "\n",
        "4)\n",
        "<p align=\"center\">\n",
        "  <img src=\"https://github.com/sabrinaMKE201073/test-html-coding/assets/95947484/f4834556-f710-46c0-8e69-31e1e45fdcf5\">\n",
        "</p>\n",
        "\n"
      ],
      "metadata": {
        "id": "e6W_mNxWXkC4"
      }
    }
  ]
}