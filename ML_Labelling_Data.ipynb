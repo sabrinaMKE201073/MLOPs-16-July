{
  "nbformat": 4,
  "nbformat_minor": 0,
  "metadata": {
    "colab": {
      "provenance": [],
      "authorship_tag": "ABX9TyPg7PrO8Yj/884sgnO6MHlE",
      "include_colab_link": true
    },
    "kernelspec": {
      "name": "python3",
      "display_name": "Python 3"
    },
    "language_info": {
      "name": "python"
    }
  },
  "cells": [
    {
      "cell_type": "markdown",
      "metadata": {
        "id": "view-in-github",
        "colab_type": "text"
      },
      "source": [
        "<a href=\"https://colab.research.google.com/github/sabrinaMKE201073/MLOPs-16-July/blob/main/ML_Labelling_Data.ipynb\" target=\"_parent\"><img src=\"https://colab.research.google.com/assets/colab-badge.svg\" alt=\"Open In Colab\"/></a>"
      ]
    },
    {
      "cell_type": "markdown",
      "source": [
        "<h1> <b>\n",
        "W1 - Labelling Data </b> </h1>\n",
        "\n",
        "- Case Study: Degraded Model Performance\n",
        " - Imagine you're an Online Retailer Selling Shoes\n",
        " - Your model predicts Click Thru Rates (CTR), `helping you decide how much inventory to order`\n",
        " - Suddenly, Your AUC and prediction accuracy have dropped on men's dress shoes.\n",
        "\n",
        "- Why this happen? Why your model not predict men's dress shoes well now? how u even know\n",
        "the problems?\n",
        "\n",
        "\n"
      ],
      "metadata": {
        "id": "JkLWnqrz8Fao"
      }
    },
    {
      "cell_type": "markdown",
      "source": [
        "<p align=\"center\">\n",
        "  <img src=\"https://github.com/sabrinaMKE201073/test-html-coding/assets/95947484/7a95dbec-7134-4389-a7aa-658b08e555d2\">\n",
        "</p>\n",
        "\n",
        "<p align=\"center\">\n",
        "  <img src=\"https://github.com/sabrinaMKE201073/test-html-coding/assets/95947484/3138ff1c-7b74-4ca6-849c-4705435a73d7\">\n",
        "</p>\n",
        "\n",
        "\n",
        "<p align=\"center\">\n",
        "  <img src=\"https://github.com/sabrinaMKE201073/test-html-coding/assets/95947484/9b4d0d64-e798-4235-974a-96f7ac930a30\">\n",
        "</p>\n",
        "\n",
        "<p align=\"center\">\n",
        "  <img src=\"https://github.com/sabrinaMKE201073/test-html-coding/assets/95947484/8c9b14be-438c-4736-aff5-58a9bf4e8202\">\n",
        "</p>\n",
        "\n",
        "<p align=\"center\">\n",
        "  <img src=\"https://github.com/sabrinaMKE201073/test-html-coding/assets/95947484/0849c2b5-b8ab-4643-aca9-be33ca2cd150\">\n",
        "</p>"
      ],
      "metadata": {
        "id": "BlvH6eyc8XiP"
      }
    },
    {
      "cell_type": "markdown",
      "source": [
        "# **1) Labeling Data**\n",
        "\n",
        "<p align=\"center\">\n",
        "  <img src=\"https://github.com/sabrinaMKE201073/test-html-coding/assets/95947484/db564992-8684-47ce-a23f-4f5d3b9d681f\">\n",
        "</p>\n",
        "\n",
        "<p align=\"center\">\n",
        "  <img src=\"https://github.com/sabrinaMKE201073/test-html-coding/assets/95947484/e4e66e13-fac0-49f2-9ec8-172573c97732\">\n",
        "</p>\n",
        "\n",
        "---\n",
        "\n",
        "<p align=\"center\">\n",
        "  <img src=\"https://github.com/sabrinaMKE201073/test-html-coding/assets/95947484/3d827a55-44c8-4fcb-a32a-b4e097e29682\">\n",
        "</p>\n",
        "\n",
        "---\n",
        "\n",
        "<p align=\"center\">\n",
        "  <img src=\"https://github.com/sabrinaMKE201073/test-html-coding/assets/95947484/46afc724-7516-455d-ab38-caabc9c7dd3f\">\n",
        "</p>\n",
        "\n",
        "<p align=\"center\">\n",
        "  <img src=\"https://github.com/sabrinaMKE201073/test-html-coding/assets/95947484/039e0b57-be6f-4e6b-be4b-63cae798c982\">\n",
        "</p>\n"
      ],
      "metadata": {
        "id": "1VX1Veap_wT9"
      }
    },
    {
      "cell_type": "markdown",
      "source": [
        "<b><h2> 2)Various type of Data labeling </b></h2>\n",
        "\n",
        "<p align=\"center\">\n",
        "  <img src=\"https://github.com/sabrinaMKE201073/test-html-coding/assets/95947484/09813b97-816b-4017-9d0c-b6955f7ac395\">\n",
        "</p>\n",
        "\n",
        "<p align=\"center\">\n",
        "  <img src=\"https://github.com/sabrinaMKE201073/test-html-coding/assets/95947484/9c1114ad-8767-464c-ac21-300354d46899\">\n",
        "</p>\n",
        "\n",
        "<p align=\"center\">\n",
        "  <img src=\"https://github.com/sabrinaMKE201073/test-html-coding/assets/95947484/93babb94-8cff-4f1a-a7a9-3a1c6bbe8f3a\">\n",
        "</p>"
      ],
      "metadata": {
        "id": "AxzlFhgkCfZU"
      }
    },
    {
      "cell_type": "markdown",
      "source": [
        "# <b> 1st method : Process Feedback (Direct Labeling)\n",
        "\n",
        "<p align=\"center\">\n",
        "  <img src=\"https://github.com/sabrinaMKE201073/test-html-coding/assets/95947484/20d47856-f65a-462d-ab4c-fe238e08626a\">\n",
        "</p>\n",
        "\n",
        "<p align=\"center\">\n",
        "  <img src=\"https://github.com/sabrinaMKE201073/test-html-coding/assets/95947484/a1932367-daf2-4c50-96e3-b86a1549dc48\">\n",
        "</p>\n",
        "\n",
        "\n",
        "<p align=\"center\">\n",
        "  <img src=\"https://github.com/sabrinaMKE201073/test-html-coding/assets/95947484/7a3aa7da-8562-48d2-9f18-edfa3d6a8c02\">\n",
        "</p>\n",
        "\n",
        "----\n",
        "\n",
        "<h2> Open - source Log Analysis Tools: </h2>\n",
        "\n",
        "<p align=\"center\">\n",
        "  <img src=\"https://github.com/sabrinaMKE201073/test-html-coding/assets/95947484/4c255501-4c9e-49ae-8d9b-7c7909bfc35f\">\n",
        "</p>\n",
        "\n",
        "<p align=\"center\">\n",
        "  <img src=\"https://github.com/sabrinaMKE201073/test-html-coding/assets/95947484/bf7f05f7-1ba9-49ea-9681-a8369fae36e8\">\n",
        "</p>\n",
        "\n",
        "---\n",
        "\n",
        "# <b> 2nd method : Human Labeling\n",
        "\n",
        "<p align=\"center\">\n",
        "  <img src=\"https://github.com/sabrinaMKE201073/test-html-coding/assets/95947484/46fe5fc6-cc35-4367-b239-a2a7dc908180\">\n",
        "</p>\n",
        "\n",
        "<p align=\"center\">\n",
        "  <img src=\"https://github.com/sabrinaMKE201073/test-html-coding/assets/95947484/624658a7-82b0-4e45-b82a-f85bdb04c487\">\n",
        "</p>\n",
        "\n",
        "<p align=\"center\">\n",
        "  <img src=\"https://github.com/sabrinaMKE201073/test-html-coding/assets/95947484/04ff1b18-80ed-4476-bc86-1dc7cabc59f3\">\n",
        "</p>\n",
        "\n",
        "<p align=\"center\">\n",
        "  <img src=\"https://github.com/sabrinaMKE201073/test-html-coding/assets/95947484/43cf240b-61dd-432e-91ce-8333b4b08ea0\">\n",
        "</p>\n",
        "\n",
        "<p align=\"center\">\n",
        "  <img src=\"https://github.com/sabrinaMKE201073/test-html-coding/assets/95947484/0d751583-9189-4f98-8148-c2dd26881e5c\">\n",
        "</p>\n"
      ],
      "metadata": {
        "id": "ELrMo1UMECdx"
      }
    }
  ]
}