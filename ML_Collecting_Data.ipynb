{
  "nbformat": 4,
  "nbformat_minor": 0,
  "metadata": {
    "colab": {
      "provenance": [],
      "authorship_tag": "ABX9TyOgAhBplugHuw80CLAfRSBA",
      "include_colab_link": true
    },
    "kernelspec": {
      "name": "python3",
      "display_name": "Python 3"
    },
    "language_info": {
      "name": "python"
    }
  },
  "cells": [
    {
      "cell_type": "markdown",
      "metadata": {
        "id": "view-in-github",
        "colab_type": "text"
      },
      "source": [
        "<a href=\"https://colab.research.google.com/github/sabrinaMKE201073/MLOPs-16-July/blob/main/ML_Collecting_Data.ipynb\" target=\"_parent\"><img src=\"https://colab.research.google.com/assets/colab-badge.svg\" alt=\"Open In Colab\"/></a>"
      ]
    },
    {
      "cell_type": "markdown",
      "source": [
        "<h1> <b>\n",
        "W1 - Collecting Data </b> </h1>\n",
        "\n",
        "\n",
        "<p align=\"center\">\n",
        "  <img src=\"https://github.com/sabrinaMKE201073/test-html-coding/assets/95947484/7a684bcf-94f0-4998-b6c3-d7097b648a1c\">\n",
        "</p>\n",
        "\n",
        "\n",
        "<p align=\"center\">\n",
        "  <img src=\"https://github.com/sabrinaMKE201073/test-html-coding/assets/95947484/1720c5cc-80a6-4ddf-a640-80bc7bc07e35\">\n",
        "</p>\n",
        "\n",
        "This data is important to be labeled and organize well in order to avoid:\n",
        "\n",
        "<p align=\"center\">\n",
        "  <img src=\"https://github.com/sabrinaMKE201073/test-html-coding/assets/95947484/b02120b7-1234-4cbb-b6ff-bda932f8a46d\">\n",
        "</p>\n",
        "\n",
        "---\n",
        "\n",
        "\n",
        "Key Points in Collecting Data\n",
        "\n",
        "<p align=\"center\">\n",
        "  <img src=\"https://github.com/sabrinaMKE201073/test-html-coding/assets/95947484/e9baa105-0770-4aa7-b8a7-d5ff5ef0d852\">\n",
        "</p>\n"
      ],
      "metadata": {
        "id": "VrN98vNErshy"
      }
    },
    {
      "cell_type": "markdown",
      "source": [
        "# 1) Example ML Application system:\n",
        "\n",
        "- SUGGESTING RUNS to RUNNERS\n",
        "\n",
        "<p align=\"center\">\n",
        "  <img src=\"https://github.com/sabrinaMKE201073/test-html-coding/assets/95947484/500e71e6-2994-463a-a7b0-e7595c76510a\">\n",
        "</p>\n",
        "\n",
        "\n",
        "<p align=\"center\">\n",
        "  <img src=\"https://github.com/sabrinaMKE201073/test-html-coding/assets/95947484/3a11a5fc-4fce-4ee9-8e19-f7d5ea5b3e12\">\n",
        "</p>\n",
        "\n",
        "<p align=\"center\">\n",
        "  <img src=\"https://github.com/sabrinaMKE201073/test-html-coding/assets/95947484/8d008057-6eb7-4d4e-b960-2d5f1ae4fd13\">\n",
        "</p>\n",
        "\n",
        "<p align=\"center\">\n",
        "  <img src=\"https://github.com/sabrinaMKE201073/test-html-coding/assets/95947484/d8e8dddd-ed2b-4ed1-a46f-da137eb938f2\">\n",
        "</p>\n",
        "\n",
        "\n",
        "<p align=\"center\">\n",
        "  <img src=\"https://github.com/sabrinaMKE201073/test-html-coding/assets/95947484/6b3aa751-df6d-4bf0-97eb-471a62b19d68\">\n",
        "</p>\n",
        "\n",
        "---\n",
        "\n",
        "<p align=\"center\">\n",
        "  <img src=\"https://github.com/sabrinaMKE201073/test-html-coding/assets/95947484/40778e2d-de5b-4004-982a-bca0a3083bb9\">\n",
        "</p>\n"
      ],
      "metadata": {
        "id": "rgIHvy07r-oB"
      }
    },
    {
      "cell_type": "markdown",
      "source": [
        "# **Translate user needs into data needs:**\n",
        "\n",
        "<p align=\"center\">\n",
        "  <img src=\"https://github.com/sabrinaMKE201073/test-html-coding/assets/95947484/a1b034ca-efd7-46b7-9406-ec0220ef4736\">\n",
        "</p>\n",
        "\n",
        "<p align=\"center\">\n",
        "  <img src=\"https://github.com/sabrinaMKE201073/test-html-coding/assets/95947484/177e9b17-0311-4a82-bc93-9b850acd1743\">\n",
        "</p>\n",
        "\n",
        "<p align=\"center\">\n",
        "  <img src=\"https://github.com/sabrinaMKE201073/test-html-coding/assets/95947484/28748eb6-c38f-4a5f-a5f9-4e4972e80362\">\n",
        "</p>\n",
        "\n",
        "---\n",
        "\n",
        "KEY POINTS:\n",
        "\n",
        "- understand user's need, translate their needs into data problems:\n",
        "\n",
        "  - type of data\n",
        "  - issues of data\n",
        "  - predictive features\n",
        "  - labels you are tracking\n",
        "  - your metrics"
      ],
      "metadata": {
        "id": "ZlDMGBYsyhYm"
      }
    },
    {
      "cell_type": "markdown",
      "source": [
        "<h3><b> 2) Responsible Data : Security, Privacy & Fairness </b> </h3>\n",
        "\n",
        "<p align=\"center\">\n",
        "  <img src=\"https://github.com/sabrinaMKE201073/test-html-coding/assets/95947484/4cff659b-d492-4976-bd5c-803c79287788\">\n",
        "</p>\n",
        "\n",
        "<p align=\"center\">\n",
        "  <img src=\"https://github.com/sabrinaMKE201073/test-html-coding/assets/95947484/0bb709b6-eba9-4d61-8c7a-b181e1654f78\">\n",
        "</p>\n",
        "\n",
        "<p align=\"center\">\n",
        "  <img src=\"https://github.com/sabrinaMKE201073/test-html-coding/assets/95947484/81763740-e3ca-4584-b1aa-b09dda24205c\">\n",
        "</p>\n",
        "\n",
        "<p align=\"center\">\n",
        "  <img src=\"https://github.com/sabrinaMKE201073/test-html-coding/assets/95947484/8c17db71-d0cb-4937-874c-56622963aa93\">\n",
        "</p>\n",
        "\n",
        "\n",
        "<p align=\"center\">\n",
        "  <img src=\"https://github.com/sabrinaMKE201073/test-html-coding/assets/95947484/202ed5d1-37ab-4fb1-940b-eea320af36e1\">\n",
        "</p>\n",
        "\n",
        "---\n",
        "\n",
        "<p align=\"center\">\n",
        "  <img src=\"https://github.com/sabrinaMKE201073/test-html-coding/assets/95947484/0179b1d7-9134-43f8-bee5-08ba94a9927d\">\n",
        "</p>\n",
        "\n",
        "\n",
        "<p align=\"center\">\n",
        "  <img src=\"https://github.com/sabrinaMKE201073/test-html-coding/assets/95947484/a13f4392-763c-4a0d-b84e-61589240964c\">\n",
        "</p>\n",
        "\n",
        "<p align=\"center\">\n",
        "  <img src=\"https://github.com/sabrinaMKE201073/test-html-coding/assets/95947484/23999204-d4f2-4826-9b27-ee1c28ecc8f9\">\n",
        "</p>"
      ],
      "metadata": {
        "id": "hq8p9Jcu19h0"
      }
    }
  ]
}