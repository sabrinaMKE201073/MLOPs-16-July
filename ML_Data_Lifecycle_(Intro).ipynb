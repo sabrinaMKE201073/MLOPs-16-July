{
  "nbformat": 4,
  "nbformat_minor": 0,
  "metadata": {
    "colab": {
      "provenance": [],
      "authorship_tag": "ABX9TyP7hB7V32aOMlH7RvAJUjcd",
      "include_colab_link": true
    },
    "kernelspec": {
      "name": "python3",
      "display_name": "Python 3"
    },
    "language_info": {
      "name": "python"
    }
  },
  "cells": [
    {
      "cell_type": "markdown",
      "metadata": {
        "id": "view-in-github",
        "colab_type": "text"
      },
      "source": [
        "<a href=\"https://colab.research.google.com/github/sabrinaMKE201073/MLOPs-16-July/blob/main/ML_Data_Lifecycle_(Intro).ipynb\" target=\"_parent\"><img src=\"https://colab.research.google.com/assets/colab-badge.svg\" alt=\"Open In Colab\"/></a>"
      ]
    },
    {
      "cell_type": "markdown",
      "source": [
        "<h1> <b>\n",
        "Introduction to Machine Learning Engineering in Production (MLOps) </b> </h1>\n",
        "\n",
        "\n",
        "<p align=\"center\">\n",
        "  <img src=\"https://github.com/sabrinaMKE201073/test-html-coding/assets/95947484/337b498f-5226-459e-a0d1-5bdd48507ed4\">\n",
        "</p>"
      ],
      "metadata": {
        "id": "0eH7SIzLb6gj"
      }
    },
    {
      "cell_type": "markdown",
      "source": [
        "<p align=\"center\">\n",
        "  <img src=\"https://github.com/sabrinaMKE201073/test-html-coding/assets/95947484/5f8fe062-8e9b-414f-be56-00f91ab8dfb7\">\n",
        "</p>"
      ],
      "metadata": {
        "id": "Oyea_g7Kc_xO"
      }
    },
    {
      "cell_type": "markdown",
      "source": [
        "- Data is hardest part of ML & most imporatant piece to get it right\n",
        "- `MACHINE LEARNING relies on DATA`"
      ],
      "metadata": {
        "id": "N-lnaKpWfYWu"
      }
    },
    {
      "cell_type": "markdown",
      "source": [
        "<p align=\"center\">\n",
        "  <img src=\"https://github.com/sabrinaMKE201073/test-html-coding/assets/95947484/d322169b-f3b6-408d-81b4-e622101b0fa3\">\n",
        "</p>\n",
        "\n",
        "\n",
        "---\n",
        "\n",
        "**Different between standard ML for research and in real world production engineer**\n",
        "\n",
        "<p align=\"center\">\n",
        "  <img src=\"https://github.com/sabrinaMKE201073/test-html-coding/assets/95947484/54eca5e4-ff42-411b-a1aa-6237974012a7\">\n",
        "</p>"
      ],
      "metadata": {
        "id": "UujQW_6LgqYv"
      }
    },
    {
      "cell_type": "markdown",
      "source": [
        "<p align=\"center\">\n",
        "  <img src=\"https://github.com/sabrinaMKE201073/test-html-coding/assets/95947484/7e05d3d2-219e-4cad-9bbf-d5b0c58623d3\">\n",
        "</p>\n",
        "\n",
        "<p align=\"center\">\n",
        "  <img src=\"https://github.com/sabrinaMKE201073/test-html-coding/assets/95947484/b6c93cc8-c950-4529-bdcd-48186cc26153\">\n",
        "</p>"
      ],
      "metadata": {
        "id": "dyjWcMpPi3Up"
      }
    },
    {
      "cell_type": "markdown",
      "source": [
        "<h2> 1) ML Pipeline\n",
        "\n",
        "<p align=\"center\">\n",
        "  <img src=\"https://github.com/sabrinaMKE201073/test-html-coding/assets/95947484/9a33db56-6fb3-49b2-90e9-6e92a86284e1\n",
        "\">\n",
        "</p>\n",
        "\n",
        "\n",
        "\n",
        "<p align=\"center\">\n",
        "  <img src=\"https://github.com/sabrinaMKE201073/test-html-coding/assets/95947484/8c0bf64c-d13b-439d-a8bb-dd41d93cdc83\n",
        "\">\n",
        "</p>\n",
        "\n",
        "<p align=\"center\">\n",
        "  <img src=\"https://github.com/sabrinaMKE201073/test-html-coding/assets/95947484/218d1402-4ef7-4de1-90fe-a52b5d5b34dd\">\n",
        "</p>\n",
        "\n",
        "<p align=\"center\">\n",
        "  <img src=\"https://github.com/sabrinaMKE201073/test-html-coding/assets/95947484/549d859c-529c-4ca9-97fd-be4673ce2927\">\n",
        "</p>\n",
        "\n",
        "---\n",
        "\n",
        "<h> <b> 2) TFX (TensorFlow Extended)  </h>\n",
        "\n",
        "<p align=\"center\">\n",
        "  <img src=\"https://github.com/sabrinaMKE201073/test-html-coding/assets/95947484/5eb4ff2f-47f2-443a-81ac-020d19fab683\">\n",
        "</p>\n",
        "\n",
        "\n",
        "<p align=\"center\">\n",
        "  <img src=\"https://github.com/sabrinaMKE201073/test-html-coding/assets/95947484/9002f4cc-3150-45a7-84fa-5978ef516a05\">\n",
        "</p>\n",
        "\n",
        "\n",
        "<p align=\"center\">\n",
        "  <img src=\"https://github.com/sabrinaMKE201073/test-html-coding/assets/95947484/5df1f128-65b3-43ac-b0ef-00dfc7a9b8ae\">\n",
        "</p>"
      ],
      "metadata": {
        "id": "z8y_EGbjjpwh"
      }
    }
  ]
}